{
 "cells": [
  {
   "cell_type": "code",
   "execution_count": 3,
   "metadata": {},
   "outputs": [],
   "source": [
    "import pandas as pd\n",
    "import numpy as np\n",
    "import librosa\n",
    "import librosa.display\n",
    "import matplotlib.pyplot as plt\n",
    "import os\n",
    "import shutil\n",
    "from sklearn.model_selection import train_test_split \n",
    "from sklearn.preprocessing import LabelBinarizer\n",
    "from sklearn.model_selection import StratifiedShuffleSplit\n",
    "import pickle"
   ]
  },
  {
   "cell_type": "code",
   "execution_count": null,
   "metadata": {},
   "outputs": [],
   "source": []
  },
  {
   "cell_type": "code",
   "execution_count": 32,
   "metadata": {},
   "outputs": [],
   "source": [
    "df = pd.read_csv('training_data.csv')\n"
   ]
  },
  {
   "cell_type": "code",
   "execution_count": 33,
   "metadata": {},
   "outputs": [
    {
     "data": {
      "text/html": [
       "<div>\n",
       "<style scoped>\n",
       "    .dataframe tbody tr th:only-of-type {\n",
       "        vertical-align: middle;\n",
       "    }\n",
       "\n",
       "    .dataframe tbody tr th {\n",
       "        vertical-align: top;\n",
       "    }\n",
       "\n",
       "    .dataframe thead th {\n",
       "        text-align: right;\n",
       "    }\n",
       "</style>\n",
       "<table border=\"1\" class=\"dataframe\">\n",
       "  <thead>\n",
       "    <tr style=\"text-align: right;\">\n",
       "      <th></th>\n",
       "      <th>Patient ID</th>\n",
       "      <th>Recording locations:</th>\n",
       "      <th>Age</th>\n",
       "      <th>Sex</th>\n",
       "      <th>Height</th>\n",
       "      <th>Weight</th>\n",
       "      <th>Pregnancy status</th>\n",
       "      <th>Murmur</th>\n",
       "      <th>Murmur locations</th>\n",
       "      <th>Most audible location</th>\n",
       "      <th>...</th>\n",
       "      <th>Systolic murmur pitch</th>\n",
       "      <th>Systolic murmur quality</th>\n",
       "      <th>Diastolic murmur timing</th>\n",
       "      <th>Diastolic murmur shape</th>\n",
       "      <th>Diastolic murmur grading</th>\n",
       "      <th>Diastolic murmur pitch</th>\n",
       "      <th>Diastolic murmur quality</th>\n",
       "      <th>Outcome</th>\n",
       "      <th>Campaign</th>\n",
       "      <th>Additional ID</th>\n",
       "    </tr>\n",
       "  </thead>\n",
       "  <tbody>\n",
       "    <tr>\n",
       "      <th>0</th>\n",
       "      <td>2530</td>\n",
       "      <td>AV+PV+TV+MV</td>\n",
       "      <td>Child</td>\n",
       "      <td>Female</td>\n",
       "      <td>98.0</td>\n",
       "      <td>15.9</td>\n",
       "      <td>False</td>\n",
       "      <td>Absent</td>\n",
       "      <td>NaN</td>\n",
       "      <td>NaN</td>\n",
       "      <td>...</td>\n",
       "      <td>NaN</td>\n",
       "      <td>NaN</td>\n",
       "      <td>NaN</td>\n",
       "      <td>NaN</td>\n",
       "      <td>NaN</td>\n",
       "      <td>NaN</td>\n",
       "      <td>NaN</td>\n",
       "      <td>Abnormal</td>\n",
       "      <td>CC2015</td>\n",
       "      <td>NaN</td>\n",
       "    </tr>\n",
       "    <tr>\n",
       "      <th>1</th>\n",
       "      <td>9979</td>\n",
       "      <td>AV+PV+TV+MV</td>\n",
       "      <td>Child</td>\n",
       "      <td>Female</td>\n",
       "      <td>103.0</td>\n",
       "      <td>13.1</td>\n",
       "      <td>False</td>\n",
       "      <td>Present</td>\n",
       "      <td>AV+MV+PV+TV</td>\n",
       "      <td>TV</td>\n",
       "      <td>...</td>\n",
       "      <td>High</td>\n",
       "      <td>Harsh</td>\n",
       "      <td>NaN</td>\n",
       "      <td>NaN</td>\n",
       "      <td>NaN</td>\n",
       "      <td>NaN</td>\n",
       "      <td>NaN</td>\n",
       "      <td>Abnormal</td>\n",
       "      <td>CC2015</td>\n",
       "      <td>NaN</td>\n",
       "    </tr>\n",
       "    <tr>\n",
       "      <th>2</th>\n",
       "      <td>9983</td>\n",
       "      <td>AV+PV+TV+MV</td>\n",
       "      <td>Child</td>\n",
       "      <td>Male</td>\n",
       "      <td>115.0</td>\n",
       "      <td>19.1</td>\n",
       "      <td>False</td>\n",
       "      <td>Unknown</td>\n",
       "      <td>NaN</td>\n",
       "      <td>NaN</td>\n",
       "      <td>...</td>\n",
       "      <td>NaN</td>\n",
       "      <td>NaN</td>\n",
       "      <td>NaN</td>\n",
       "      <td>NaN</td>\n",
       "      <td>NaN</td>\n",
       "      <td>NaN</td>\n",
       "      <td>NaN</td>\n",
       "      <td>Abnormal</td>\n",
       "      <td>CC2015</td>\n",
       "      <td>NaN</td>\n",
       "    </tr>\n",
       "    <tr>\n",
       "      <th>3</th>\n",
       "      <td>13918</td>\n",
       "      <td>AV+PV+TV+MV</td>\n",
       "      <td>Child</td>\n",
       "      <td>Male</td>\n",
       "      <td>98.0</td>\n",
       "      <td>15.9</td>\n",
       "      <td>False</td>\n",
       "      <td>Present</td>\n",
       "      <td>TV</td>\n",
       "      <td>TV</td>\n",
       "      <td>...</td>\n",
       "      <td>Low</td>\n",
       "      <td>Blowing</td>\n",
       "      <td>NaN</td>\n",
       "      <td>NaN</td>\n",
       "      <td>NaN</td>\n",
       "      <td>NaN</td>\n",
       "      <td>NaN</td>\n",
       "      <td>Abnormal</td>\n",
       "      <td>CC2015</td>\n",
       "      <td>NaN</td>\n",
       "    </tr>\n",
       "    <tr>\n",
       "      <th>4</th>\n",
       "      <td>14241</td>\n",
       "      <td>AV+PV+TV+MV</td>\n",
       "      <td>Child</td>\n",
       "      <td>Male</td>\n",
       "      <td>87.0</td>\n",
       "      <td>11.2</td>\n",
       "      <td>False</td>\n",
       "      <td>Present</td>\n",
       "      <td>AV+MV+PV+TV</td>\n",
       "      <td>PV</td>\n",
       "      <td>...</td>\n",
       "      <td>Low</td>\n",
       "      <td>Harsh</td>\n",
       "      <td>NaN</td>\n",
       "      <td>NaN</td>\n",
       "      <td>NaN</td>\n",
       "      <td>NaN</td>\n",
       "      <td>NaN</td>\n",
       "      <td>Abnormal</td>\n",
       "      <td>CC2015</td>\n",
       "      <td>NaN</td>\n",
       "    </tr>\n",
       "  </tbody>\n",
       "</table>\n",
       "<p>5 rows × 23 columns</p>\n",
       "</div>"
      ],
      "text/plain": [
       "   Patient ID Recording locations:    Age     Sex  Height  Weight  \\\n",
       "0        2530          AV+PV+TV+MV  Child  Female    98.0    15.9   \n",
       "1        9979          AV+PV+TV+MV  Child  Female   103.0    13.1   \n",
       "2        9983          AV+PV+TV+MV  Child    Male   115.0    19.1   \n",
       "3       13918          AV+PV+TV+MV  Child    Male    98.0    15.9   \n",
       "4       14241          AV+PV+TV+MV  Child    Male    87.0    11.2   \n",
       "\n",
       "   Pregnancy status   Murmur Murmur locations Most audible location  ...  \\\n",
       "0             False   Absent              NaN                   NaN  ...   \n",
       "1             False  Present      AV+MV+PV+TV                    TV  ...   \n",
       "2             False  Unknown              NaN                   NaN  ...   \n",
       "3             False  Present               TV                    TV  ...   \n",
       "4             False  Present      AV+MV+PV+TV                    PV  ...   \n",
       "\n",
       "  Systolic murmur pitch Systolic murmur quality Diastolic murmur timing  \\\n",
       "0                   NaN                     NaN                     NaN   \n",
       "1                  High                   Harsh                     NaN   \n",
       "2                   NaN                     NaN                     NaN   \n",
       "3                   Low                 Blowing                     NaN   \n",
       "4                   Low                   Harsh                     NaN   \n",
       "\n",
       "  Diastolic murmur shape Diastolic murmur grading Diastolic murmur pitch  \\\n",
       "0                    NaN                      NaN                    NaN   \n",
       "1                    NaN                      NaN                    NaN   \n",
       "2                    NaN                      NaN                    NaN   \n",
       "3                    NaN                      NaN                    NaN   \n",
       "4                    NaN                      NaN                    NaN   \n",
       "\n",
       "  Diastolic murmur quality   Outcome Campaign Additional ID  \n",
       "0                      NaN  Abnormal   CC2015           NaN  \n",
       "1                      NaN  Abnormal   CC2015           NaN  \n",
       "2                      NaN  Abnormal   CC2015           NaN  \n",
       "3                      NaN  Abnormal   CC2015           NaN  \n",
       "4                      NaN  Abnormal   CC2015           NaN  \n",
       "\n",
       "[5 rows x 23 columns]"
      ]
     },
     "execution_count": 33,
     "metadata": {},
     "output_type": "execute_result"
    }
   ],
   "source": [
    "df.head()"
   ]
  },
  {
   "cell_type": "code",
   "execution_count": 34,
   "metadata": {},
   "outputs": [
    {
     "data": {
      "text/plain": [
       "Outcome\n",
       "Normal      486\n",
       "Abnormal    456\n",
       "Name: count, dtype: int64"
      ]
     },
     "execution_count": 34,
     "metadata": {},
     "output_type": "execute_result"
    }
   ],
   "source": [
    "df['Outcome'].value_counts()"
   ]
  },
  {
   "cell_type": "code",
   "execution_count": 35,
   "metadata": {},
   "outputs": [
    {
     "data": {
      "text/plain": [
       "Murmur\n",
       "Absent     695\n",
       "Present    179\n",
       "Unknown     68\n",
       "Name: count, dtype: int64"
      ]
     },
     "execution_count": 35,
     "metadata": {},
     "output_type": "execute_result"
    }
   ],
   "source": [
    "df['Murmur'].value_counts()"
   ]
  },
  {
   "cell_type": "code",
   "execution_count": 36,
   "metadata": {},
   "outputs": [
    {
     "data": {
      "text/html": [
       "<div>\n",
       "<style scoped>\n",
       "    .dataframe tbody tr th:only-of-type {\n",
       "        vertical-align: middle;\n",
       "    }\n",
       "\n",
       "    .dataframe tbody tr th {\n",
       "        vertical-align: top;\n",
       "    }\n",
       "\n",
       "    .dataframe thead th {\n",
       "        text-align: right;\n",
       "    }\n",
       "</style>\n",
       "<table border=\"1\" class=\"dataframe\">\n",
       "  <thead>\n",
       "    <tr style=\"text-align: right;\">\n",
       "      <th></th>\n",
       "      <th>Murmur</th>\n",
       "      <th>Patient ID</th>\n",
       "    </tr>\n",
       "  </thead>\n",
       "  <tbody>\n",
       "    <tr>\n",
       "      <th>0</th>\n",
       "      <td>Absent</td>\n",
       "      <td>[2530, 14998, 23625, 24160, 31737, 38337, 3904...</td>\n",
       "    </tr>\n",
       "    <tr>\n",
       "      <th>1</th>\n",
       "      <td>Present</td>\n",
       "      <td>[9979, 13918, 14241, 29045, 33151, 36327, 4084...</td>\n",
       "    </tr>\n",
       "    <tr>\n",
       "      <th>2</th>\n",
       "      <td>Unknown</td>\n",
       "      <td>[9983, 29378, 39456, 49558, 49607, 49618, 4963...</td>\n",
       "    </tr>\n",
       "  </tbody>\n",
       "</table>\n",
       "</div>"
      ],
      "text/plain": [
       "    Murmur                                         Patient ID\n",
       "0   Absent  [2530, 14998, 23625, 24160, 31737, 38337, 3904...\n",
       "1  Present  [9979, 13918, 14241, 29045, 33151, 36327, 4084...\n",
       "2  Unknown  [9983, 29378, 39456, 49558, 49607, 49618, 4963..."
      ]
     },
     "execution_count": 36,
     "metadata": {},
     "output_type": "execute_result"
    }
   ],
   "source": [
    "result = df.groupby('Murmur')['Patient ID'].agg(list).reset_index()\n",
    "result"
   ]
  },
  {
   "cell_type": "code",
   "execution_count": 37,
   "metadata": {},
   "outputs": [
    {
     "name": "stdout",
     "output_type": "stream",
     "text": [
      "Array cho Murmur A: [2530, 14998, 23625, 24160, 31737, 38337, 39043, 39403, 40058, 40798, 43852, 46532, 49561, 49562, 49568, 49577, 49585, 49598, 49610, 49622, 49631, 49641, 49653, 49659, 49661, 49678, 49683, 49687, 49704, 49719, 49729, 49735, 49745, 49776, 49808, 49829, 49832, 49839, 49842, 49853, 49854, 49873, 49876, 49896, 49930, 49946, 49952, 49959, 49960, 49963, 49968, 49969, 49970, 49974, 49978, 49979, 49980, 49983, 49986, 49987, 49988, 49990, 49993, 49995, 49998, 49999, 50001, 50004, 50005, 50006, 50007, 50008, 50009, 50012, 50014, 50015, 50017, 50018, 50023, 50026, 50027, 50029, 50032, 50034, 50037, 50043, 50047, 50048, 50049, 50053, 50057, 50061, 50066, 50067, 50070, 50072, 50074, 50075, 50076, 50077, 50078, 50079, 50080, 50085, 50086, 50089, 50092, 50094, 50096, 50100, 50103, 50104, 50105, 50109, 50111, 50113, 50117, 50119, 50121, 50122, 50125, 50126, 50128, 50133, 50137, 50141, 50142, 50143, 50145, 50146, 50151, 50153, 50155, 50160, 50164, 50165, 50166, 50168, 50174, 50204, 50206, 50207, 50210, 50213, 50214, 50216, 50218, 50219, 50222, 50225, 50228, 50230, 50231, 50239, 50241, 50244, 50247, 50249, 50250, 50251, 50254, 50255, 50261, 50263, 50264, 50271, 50272, 50273, 50275, 50276, 50278, 50281, 50284, 50291, 50295, 50296, 50297, 50298, 50299, 50303, 50306, 50311, 50312, 50314, 50316, 50317, 50318, 50321, 50323, 50325, 50327, 50334, 50335, 50336, 50337, 50339, 50341, 50342, 50343, 50345, 50348, 50349, 50350, 50352, 50354, 50359, 50375, 50379, 50384, 50385, 50386, 50388, 50391, 50393, 50619, 50620, 50621, 50624, 50628, 50631, 50635, 50639, 50641, 50643, 50644, 50645, 50646, 50647, 50649, 50652, 50654, 50655, 50657, 50658, 50659, 50661, 50664, 50665, 50667, 50668, 50669, 50671, 50673, 50677, 50678, 50680, 50685, 50687, 50688, 50689, 50690, 50691, 50693, 50699, 50704, 50707, 50708, 50713, 50715, 50720, 50721, 50722, 50723, 50725, 50727, 50729, 50731, 50732, 50737, 50738, 50739, 50740, 50742, 50743, 50747, 50748, 50749, 50751, 50752, 50753, 50754, 50756, 50758, 50762, 50763, 50766, 50768, 50770, 50771, 50772, 50773, 50774, 50776, 50782, 50784, 50787, 50788, 50789, 50793, 50796, 50797, 50798, 50800, 50802, 50803, 50805, 50807, 50812, 50815, 50818, 50819, 50820, 50822, 50826, 50829, 51331, 59536, 61610, 63456, 63581, 64715, 68182, 68186, 68213, 68219, 68222, 68260, 68269, 68292, 68316, 68318, 68327, 68359, 68368, 68377, 68394, 68395, 68404, 68406, 68407, 68412, 68413, 68419, 68427, 68431, 68436, 68449, 68460, 68465, 68470, 68477, 68478, 68482, 68484, 68498, 68504, 68532, 68545, 68624, 68632, 68646, 68659, 68660, 68682, 68698, 68702, 68705, 68711, 68737, 68738, 68741, 68752, 68755, 68756, 68757, 68827, 68849, 68857, 68861, 68886, 68887, 68888, 68895, 68901, 68908, 68909, 68952, 69066, 69095, 69106, 69112, 69125, 69129, 69141, 69144, 69152, 69159, 69161, 69174, 69176, 69188, 70280, 73316, 74417, 74420, 75440, 78592, 80348, 81035, 81297, 81501, 81638, 82275, 84687, 84688, 84689, 84696, 84697, 84699, 84704, 84706, 84708, 84709, 84710, 84711, 84713, 84716, 84721, 84724, 84725, 84727, 84731, 84733, 84734, 84735, 84738, 84740, 84742, 84743, 84749, 84750, 84753, 84754, 84758, 84760, 84761, 84762, 84764, 84768, 84769, 84775, 84776, 84778, 84779, 84780, 84784, 84785, 84790, 84793, 84796, 84798, 84799, 84803, 84804, 84805, 84807, 84808, 84809, 84813, 84814, 84815, 84822, 84823, 84824, 84826, 84829, 84831, 84835, 84838, 84839, 84851, 84852, 84855, 84856, 84859, 84861, 84866, 84868, 84870, 84874, 84876, 84877, 84878, 84879, 84881, 84883, 84884, 84887, 84890, 84893, 84894, 84912, 84917, 84918, 84920, 84921, 84922, 84923, 84928, 84930, 84931, 84933, 84935, 84936, 84939, 84942, 84945, 84946, 84947, 84952, 84957, 84960, 84961, 84962, 84965, 84966, 84969, 84970, 84971, 84973, 84974, 84976, 84977, 84978, 84982, 84985, 84986, 84987, 84990, 84991, 84992, 84993, 84994, 84996, 85000, 85010, 85011, 85012, 85018, 85019, 85020, 85023, 85026, 85027, 85028, 85029, 85033, 85034, 85035, 85038, 85044, 85046, 85048, 85052, 85053, 85062, 85063, 85064, 85066, 85075, 85076, 85077, 85084, 85086, 85090, 85091, 85093, 85094, 85096, 85099, 85100, 85102, 85103, 85105, 85109, 85112, 85113, 85114, 85115, 85116, 85118, 85121, 85122, 85123, 85124, 85127, 85128, 85131, 85134, 85136, 85139, 85140, 85143, 85144, 85147, 85148, 85150, 85151, 85152, 85153, 85154, 85157, 85159, 85161, 85162, 85163, 85164, 85166, 85167, 85168, 85174, 85175, 85176, 85180, 85181, 85184, 85186, 85192, 85197, 85210, 85212, 85213, 85214, 85216, 85217, 85222, 85225, 85226, 85230, 85234, 85235, 85236, 85239, 85240, 85241, 85242, 85244, 85245, 85246, 85247, 85249, 85250, 85252, 85253, 85258, 85262, 85264, 85265, 85270, 85277, 85278, 85279, 85282, 85285, 85286, 85287, 85288, 85293, 85296, 85299, 85301, 85305, 85308, 85312, 85313, 85315, 85316, 85317, 85321, 85323, 85326, 85327, 85328, 85329, 85331, 85332, 85334, 85335, 85336, 85337, 85338, 85340, 85341, 85345, 85349] 695\n",
      "Array cho Murmur P: [9979, 13918, 14241, 29045, 33151, 36327, 40840, 44514, 45843, 46065, 46579, 46778, 47002, 49572, 49574, 49595, 49627, 49628, 49630, 49691, 49712, 49748, 49751, 49754, 49821, 49823, 49824, 49838, 49850, 49897, 49900, 49931, 49966, 49989, 49994, 50054, 50056, 50099, 50115, 50118, 50127, 50129, 50136, 50138, 50149, 50150, 50159, 50161, 50209, 50220, 50221, 50229, 50233, 50238, 50256, 50258, 50260, 50277, 50280, 50285, 50289, 50319, 50326, 50331, 50332, 50629, 50656, 50676, 50734, 50735, 50736, 50744, 50746, 50757, 50781, 50790, 51064, 55945, 57700, 57706, 61117, 64256, 68194, 68204, 68255, 68279, 68303, 68306, 68337, 68363, 68374, 68379, 68423, 68425, 68432, 68435, 68444, 68456, 68487, 68560, 68567, 68582, 68708, 68740, 68874, 69068, 69079, 69093, 69096, 69120, 69147, 69155, 72283, 73497, 76240, 77373, 78280, 83094, 84690, 84692, 84693, 84695, 84702, 84714, 84718, 84730, 84732, 84751, 84786, 84802, 84834, 84840, 84853, 84854, 84857, 84863, 84864, 84865, 84882, 84885, 84896, 84937, 84949, 85002, 85004, 85024, 85030, 85031, 85036, 85037, 85042, 85055, 85057, 85069, 85079, 85080, 85087, 85108, 85110, 85119, 85132, 85133, 85135, 85145, 85165, 85169, 85172, 85198, 85199, 85207, 85219, 85243, 85259, 85261, 85269, 85276, 85306, 85339, 85343] 179\n",
      "Array cho Murmur U: [9983, 29378, 39456, 49558, 49607, 49618, 49638, 49669, 49761, 50030, 50116, 50123, 50152, 50217, 50248, 50300, 50304, 50330, 50625, 50626, 50636, 50640, 50795, 68175, 68298, 68330, 68347, 68556, 68576, 68796, 68831, 68864, 69060, 69067, 72288, 76758, 78582, 84720, 84736, 84746, 84747, 84755, 84765, 84837, 84875, 84886, 84892, 84900, 84919, 84934, 84950, 84983, 84984, 84988, 84995, 85043, 85081, 85155, 85182, 85196, 85202, 85203, 85227, 85229, 85294, 85300, 85319, 85322] 68\n",
      "Array cho Murmur A: 695\n",
      "Array cho Murmur P: 179\n",
      "Array cho Murmur U: 68\n"
     ]
    }
   ],
   "source": [
    "\n",
    "# Lấy ra 3 array\n",
    "array_Absent = result.loc[result['Murmur'] == 'Absent', 'Patient ID'].values[0]\n",
    "array_Present = result.loc[result['Murmur'] == 'Present', 'Patient ID'].values[0]\n",
    "array_Unknown = result.loc[result['Murmur'] == 'Unknown', 'Patient ID'].values[0]\n",
    "\n",
    "print(\"Array cho Murmur A:\", array_Absent,len(array_Absent))\n",
    "print(\"Array cho Murmur P:\", array_Present,len(array_Present))\n",
    "print(\"Array cho Murmur U:\", array_Unknown,len(array_Unknown))\n",
    "print(\"Array cho Murmur A:\", len(array_Absent))\n",
    "print(\"Array cho Murmur P:\", len(array_Present))\n",
    "print(\"Array cho Murmur U:\", len(array_Unknown))"
   ]
  },
  {
   "cell_type": "code",
   "execution_count": 38,
   "metadata": {},
   "outputs": [
    {
     "data": {
      "text/html": [
       "<div>\n",
       "<style scoped>\n",
       "    .dataframe tbody tr th:only-of-type {\n",
       "        vertical-align: middle;\n",
       "    }\n",
       "\n",
       "    .dataframe tbody tr th {\n",
       "        vertical-align: top;\n",
       "    }\n",
       "\n",
       "    .dataframe thead th {\n",
       "        text-align: right;\n",
       "    }\n",
       "</style>\n",
       "<table border=\"1\" class=\"dataframe\">\n",
       "  <thead>\n",
       "    <tr style=\"text-align: right;\">\n",
       "      <th></th>\n",
       "      <th>Outcome</th>\n",
       "      <th>Patient ID</th>\n",
       "    </tr>\n",
       "  </thead>\n",
       "  <tbody>\n",
       "    <tr>\n",
       "      <th>0</th>\n",
       "      <td>Abnormal</td>\n",
       "      <td>[2530, 9979, 9983, 13918, 14241, 14998, 23625,...</td>\n",
       "    </tr>\n",
       "    <tr>\n",
       "      <th>1</th>\n",
       "      <td>Normal</td>\n",
       "      <td>[43852, 46532, 49568, 49572, 49577, 49598, 496...</td>\n",
       "    </tr>\n",
       "  </tbody>\n",
       "</table>\n",
       "</div>"
      ],
      "text/plain": [
       "    Outcome                                         Patient ID\n",
       "0  Abnormal  [2530, 9979, 9983, 13918, 14241, 14998, 23625,...\n",
       "1    Normal  [43852, 46532, 49568, 49572, 49577, 49598, 496..."
      ]
     },
     "execution_count": 38,
     "metadata": {},
     "output_type": "execute_result"
    }
   ],
   "source": [
    "result = df.groupby('Outcome')['Patient ID'].agg(list).reset_index()\n",
    "result"
   ]
  },
  {
   "cell_type": "code",
   "execution_count": 39,
   "metadata": {},
   "outputs": [
    {
     "name": "stdout",
     "output_type": "stream",
     "text": [
      "Array cho Murmur A: [2530, 14998, 23625, 24160, 31737, 38337, 39043, 39403, 40058, 40798, 43852, 46532, 49561, 49562, 49568, 49577, 49585, 49598, 49610, 49622, 49631, 49641, 49653, 49659, 49661, 49678, 49683, 49687, 49704, 49719, 49729, 49735, 49745, 49776, 49808, 49829, 49832, 49839, 49842, 49853, 49854, 49873, 49876, 49896, 49930, 49946, 49952, 49959, 49960, 49963, 49968, 49969, 49970, 49974, 49978, 49979, 49980, 49983, 49986, 49987, 49988, 49990, 49993, 49995, 49998, 49999, 50001, 50004, 50005, 50006, 50007, 50008, 50009, 50012, 50014, 50015, 50017, 50018, 50023, 50026, 50027, 50029, 50032, 50034, 50037, 50043, 50047, 50048, 50049, 50053, 50057, 50061, 50066, 50067, 50070, 50072, 50074, 50075, 50076, 50077, 50078, 50079, 50080, 50085, 50086, 50089, 50092, 50094, 50096, 50100, 50103, 50104, 50105, 50109, 50111, 50113, 50117, 50119, 50121, 50122, 50125, 50126, 50128, 50133, 50137, 50141, 50142, 50143, 50145, 50146, 50151, 50153, 50155, 50160, 50164, 50165, 50166, 50168, 50174, 50204, 50206, 50207, 50210, 50213, 50214, 50216, 50218, 50219, 50222, 50225, 50228, 50230, 50231, 50239, 50241, 50244, 50247, 50249, 50250, 50251, 50254, 50255, 50261, 50263, 50264, 50271, 50272, 50273, 50275, 50276, 50278, 50281, 50284, 50291, 50295, 50296, 50297, 50298, 50299, 50303, 50306, 50311, 50312, 50314, 50316, 50317, 50318, 50321, 50323, 50325, 50327, 50334, 50335, 50336, 50337, 50339, 50341, 50342, 50343, 50345, 50348, 50349, 50350, 50352, 50354, 50359, 50375, 50379, 50384, 50385, 50386, 50388, 50391, 50393, 50619, 50620, 50621, 50624, 50628, 50631, 50635, 50639, 50641, 50643, 50644, 50645, 50646, 50647, 50649, 50652, 50654, 50655, 50657, 50658, 50659, 50661, 50664, 50665, 50667, 50668, 50669, 50671, 50673, 50677, 50678, 50680, 50685, 50687, 50688, 50689, 50690, 50691, 50693, 50699, 50704, 50707, 50708, 50713, 50715, 50720, 50721, 50722, 50723, 50725, 50727, 50729, 50731, 50732, 50737, 50738, 50739, 50740, 50742, 50743, 50747, 50748, 50749, 50751, 50752, 50753, 50754, 50756, 50758, 50762, 50763, 50766, 50768, 50770, 50771, 50772, 50773, 50774, 50776, 50782, 50784, 50787, 50788, 50789, 50793, 50796, 50797, 50798, 50800, 50802, 50803, 50805, 50807, 50812, 50815, 50818, 50819, 50820, 50822, 50826, 50829, 51331, 59536, 61610, 63456, 63581, 64715, 68182, 68186, 68213, 68219, 68222, 68260, 68269, 68292, 68316, 68318, 68327, 68359, 68368, 68377, 68394, 68395, 68404, 68406, 68407, 68412, 68413, 68419, 68427, 68431, 68436, 68449, 68460, 68465, 68470, 68477, 68478, 68482, 68484, 68498, 68504, 68532, 68545, 68624, 68632, 68646, 68659, 68660, 68682, 68698, 68702, 68705, 68711, 68737, 68738, 68741, 68752, 68755, 68756, 68757, 68827, 68849, 68857, 68861, 68886, 68887, 68888, 68895, 68901, 68908, 68909, 68952, 69066, 69095, 69106, 69112, 69125, 69129, 69141, 69144, 69152, 69159, 69161, 69174, 69176, 69188, 70280, 73316, 74417, 74420, 75440, 78592, 80348, 81035, 81297, 81501, 81638, 82275, 84687, 84688, 84689, 84696, 84697, 84699, 84704, 84706, 84708, 84709, 84710, 84711, 84713, 84716, 84721, 84724, 84725, 84727, 84731, 84733, 84734, 84735, 84738, 84740, 84742, 84743, 84749, 84750, 84753, 84754, 84758, 84760, 84761, 84762, 84764, 84768, 84769, 84775, 84776, 84778, 84779, 84780, 84784, 84785, 84790, 84793, 84796, 84798, 84799, 84803, 84804, 84805, 84807, 84808, 84809, 84813, 84814, 84815, 84822, 84823, 84824, 84826, 84829, 84831, 84835, 84838, 84839, 84851, 84852, 84855, 84856, 84859, 84861, 84866, 84868, 84870, 84874, 84876, 84877, 84878, 84879, 84881, 84883, 84884, 84887, 84890, 84893, 84894, 84912, 84917, 84918, 84920, 84921, 84922, 84923, 84928, 84930, 84931, 84933, 84935, 84936, 84939, 84942, 84945, 84946, 84947, 84952, 84957, 84960, 84961, 84962, 84965, 84966, 84969, 84970, 84971, 84973, 84974, 84976, 84977, 84978, 84982, 84985, 84986, 84987, 84990, 84991, 84992, 84993, 84994, 84996, 85000, 85010, 85011, 85012, 85018, 85019, 85020, 85023, 85026, 85027, 85028, 85029, 85033, 85034, 85035, 85038, 85044, 85046, 85048, 85052, 85053, 85062, 85063, 85064, 85066, 85075, 85076, 85077, 85084, 85086, 85090, 85091, 85093, 85094, 85096, 85099, 85100, 85102, 85103, 85105, 85109, 85112, 85113, 85114, 85115, 85116, 85118, 85121, 85122, 85123, 85124, 85127, 85128, 85131, 85134, 85136, 85139, 85140, 85143, 85144, 85147, 85148, 85150, 85151, 85152, 85153, 85154, 85157, 85159, 85161, 85162, 85163, 85164, 85166, 85167, 85168, 85174, 85175, 85176, 85180, 85181, 85184, 85186, 85192, 85197, 85210, 85212, 85213, 85214, 85216, 85217, 85222, 85225, 85226, 85230, 85234, 85235, 85236, 85239, 85240, 85241, 85242, 85244, 85245, 85246, 85247, 85249, 85250, 85252, 85253, 85258, 85262, 85264, 85265, 85270, 85277, 85278, 85279, 85282, 85285, 85286, 85287, 85288, 85293, 85296, 85299, 85301, 85305, 85308, 85312, 85313, 85315, 85316, 85317, 85321, 85323, 85326, 85327, 85328, 85329, 85331, 85332, 85334, 85335, 85336, 85337, 85338, 85340, 85341, 85345, 85349] 456\n",
      "Array cho Murmur N: [9979, 13918, 14241, 29045, 33151, 36327, 40840, 44514, 45843, 46065, 46579, 46778, 47002, 49572, 49574, 49595, 49627, 49628, 49630, 49691, 49712, 49748, 49751, 49754, 49821, 49823, 49824, 49838, 49850, 49897, 49900, 49931, 49966, 49989, 49994, 50054, 50056, 50099, 50115, 50118, 50127, 50129, 50136, 50138, 50149, 50150, 50159, 50161, 50209, 50220, 50221, 50229, 50233, 50238, 50256, 50258, 50260, 50277, 50280, 50285, 50289, 50319, 50326, 50331, 50332, 50629, 50656, 50676, 50734, 50735, 50736, 50744, 50746, 50757, 50781, 50790, 51064, 55945, 57700, 57706, 61117, 64256, 68194, 68204, 68255, 68279, 68303, 68306, 68337, 68363, 68374, 68379, 68423, 68425, 68432, 68435, 68444, 68456, 68487, 68560, 68567, 68582, 68708, 68740, 68874, 69068, 69079, 69093, 69096, 69120, 69147, 69155, 72283, 73497, 76240, 77373, 78280, 83094, 84690, 84692, 84693, 84695, 84702, 84714, 84718, 84730, 84732, 84751, 84786, 84802, 84834, 84840, 84853, 84854, 84857, 84863, 84864, 84865, 84882, 84885, 84896, 84937, 84949, 85002, 85004, 85024, 85030, 85031, 85036, 85037, 85042, 85055, 85057, 85069, 85079, 85080, 85087, 85108, 85110, 85119, 85132, 85133, 85135, 85145, 85165, 85169, 85172, 85198, 85199, 85207, 85219, 85243, 85259, 85261, 85269, 85276, 85306, 85339, 85343] 486\n",
      "Array cho Murmur A: 456\n",
      "Array cho Murmur N: 486\n"
     ]
    }
   ],
   "source": [
    "array_Abnormal = result.loc[result['Outcome'] == 'Abnormal', 'Patient ID'].values[0]\n",
    "array_Normal = result.loc[result['Outcome'] == 'Normal', 'Patient ID'].values[0]\n",
    "\n",
    "print(\"Array cho Murmur A:\", array_Absent,len(array_Abnormal))\n",
    "print(\"Array cho Murmur N:\", array_Present,len(array_Normal))\n",
    "print(\"Array cho Murmur A:\", len(array_Abnormal))\n",
    "print(\"Array cho Murmur N:\", len(array_Normal))"
   ]
  },
  {
   "cell_type": "code",
   "execution_count": 44,
   "metadata": {},
   "outputs": [
    {
     "name": "stdout",
     "output_type": "stream",
     "text": [
      "263 150 43\n"
     ]
    }
   ],
   "source": [
    "array1 = array_Abnormal\n",
    "array = [array_Absent,array_Present,array_Unknown]\n",
    "\n",
    "array_out_Abnormal = [[],[],[]]\n",
    "i = 0\n",
    "for array2 in array:\n",
    "    array_out_Abnormal[i] = np.intersect1d(array1, array2)\n",
    "    i = i+1\n",
    "print(len(array_out_Abnormal[0]),len(array_out_Abnormal[1]),len(array_out_Abnormal[2]))"
   ]
  },
  {
   "cell_type": "code",
   "execution_count": 45,
   "metadata": {},
   "outputs": [
    {
     "name": "stdout",
     "output_type": "stream",
     "text": [
      "432 29 25\n"
     ]
    }
   ],
   "source": [
    "array1 = array_Normal\n",
    "array = [array_Absent,array_Present,array_Unknown]\n",
    "\n",
    "array_out_Normal = [[],[],[]]\n",
    "i = 0\n",
    "for array2 in array:\n",
    "    array_out_Normal[i] = np.intersect1d(array1, array2)\n",
    "    i = i+1\n",
    "print(len(array_out_Normal[0]),len(array_out_Normal[1]),len(array_out_Normal[2]))"
   ]
  },
  {
   "cell_type": "code",
   "execution_count": 48,
   "metadata": {},
   "outputs": [
    {
     "name": "stdout",
     "output_type": "stream",
     "text": [
      "70\n",
      "88\n",
      "95\n"
     ]
    }
   ],
   "source": [
    "x_test =[]\n",
    "for i in range(len(array_out_Abnormal)):\n",
    "    if i == 0 :\n",
    "        size =  70\n",
    "    elif i == 1:\n",
    "        size = 18\n",
    "    elif i ==2:\n",
    "        size =7    \n",
    "    sampled_array = np.random.choice(array_out_Abnormal[i], size=size, replace=False)\n",
    "    x_test.extend(sampled_array)\n",
    "    print(len(x_test))"
   ]
  },
  {
   "cell_type": "code",
   "execution_count": 49,
   "metadata": {},
   "outputs": [
    {
     "name": "stdout",
     "output_type": "stream",
     "text": [
      "165\n",
      "183\n",
      "190\n"
     ]
    }
   ],
   "source": [
    "for i in range(len(array_out_Normal)):\n",
    "    if i == 0 :\n",
    "        size =  70\n",
    "    elif i == 1:\n",
    "        size = 18\n",
    "    elif i ==2:\n",
    "        size =7    \n",
    "    sampled_array = np.random.choice(array_out_Normal[i], size=size, replace=False)\n",
    "    x_test.extend(sampled_array)\n",
    "    print(len(x_test))"
   ]
  },
  {
   "cell_type": "code",
   "execution_count": 174,
   "metadata": {},
   "outputs": [
    {
     "data": {
      "text/plain": [
       "0       2530\n",
       "1       9979\n",
       "2       9983\n",
       "3      13918\n",
       "4      14241\n",
       "       ...  \n",
       "937    85340\n",
       "938    85341\n",
       "939    85343\n",
       "940    85345\n",
       "941    85349\n",
       "Name: Patient ID, Length: 942, dtype: int64"
      ]
     },
     "execution_count": 174,
     "metadata": {},
     "output_type": "execute_result"
    }
   ],
   "source": [
    "df['Patient ID']"
   ]
  },
  {
   "cell_type": "code",
   "execution_count": 51,
   "metadata": {},
   "outputs": [
    {
     "name": "stdout",
     "output_type": "stream",
     "text": [
      "Mảng sau khi loại bỏ giá trị giống nhau: 752\n"
     ]
    }
   ],
   "source": [
    "\n",
    "\n",
    "# Sử dụng numpy.setdiff1d để loại bỏ giá trị giống nhau\n",
    "id_train = np.setdiff1d(df['Patient ID'], x_test)\n",
    "\n",
    "print(\"Mảng sau khi loại bỏ giá trị giống nhau:\", len(id_train))"
   ]
  },
  {
   "cell_type": "code",
   "execution_count": 52,
   "metadata": {},
   "outputs": [],
   "source": [
    "# file = open('id_patient.csv','wb')\n",
    "# pickle.dump((id_train,x_test),file)\n",
    "# file.close()"
   ]
  },
  {
   "cell_type": "code",
   "execution_count": 4,
   "metadata": {},
   "outputs": [],
   "source": [
    "file = open('id_patient.csv','rb')\n",
    "data = pickle.load(file)\n",
    "id_train,id_test = data\n",
    "file.close()"
   ]
  },
  {
   "cell_type": "code",
   "execution_count": 5,
   "metadata": {},
   "outputs": [],
   "source": [
    "def time_start(filename):\n",
    "    file_tsv = filename[:-4]+\".tsv\"\n",
    "    df_time = pd.read_csv(str(file_tsv))\n",
    "    df_time = np.array(df_time)\n",
    "    # print(len(df_time))\n",
    "    # print(df[0][0].split('\\t')[0])\n",
    "    # print(df[len(df)-1][0].split('\\t')[0])\n",
    "    start = (df_time[0][0].split('\\t')[0])\n",
    "    end = (df_time[len(df_time)-1][0].split('\\t')[0])\n",
    "    return start+\"_\"+end\n"
   ]
  },
  {
   "cell_type": "code",
   "execution_count": 7,
   "metadata": {},
   "outputs": [],
   "source": [
    "\n",
    "data = 'training_data'\n",
    "\n",
    "out_file = 'training_data_all/'\n",
    "df = pd.read_csv('training_data.csv')\n",
    "for element in id_test:\n",
    "    for filename in os.listdir(data):\n",
    "        if filename.startswith(str(element)) and filename.endswith('.wav'):\n",
    "            # print(filename)\n",
    "            link_file = os.path.join(data,filename)\n",
    "            # print(link_file)\n",
    "            time = (time_start(link_file))\n",
    "\n",
    "            murmur_value = df.loc[df['Patient ID'] == element, 'Murmur'].values[0]\n",
    "            outcome_value = df.loc[df['Patient ID'] == element, 'Outcome'].values[0]\n",
    "            # print(f\"For Patient ID {element}:\")\n",
    "            # print(murmur_value)\n",
    "            # print(outcome_value)\n",
    "            # print(filename)\n",
    "            \n",
    "            shutil.copy(link_file, out_file +'test/'+murmur_value+'/'+outcome_value+'_'+str(time)+'_'+filename)\n",
    "\n",
    "    "
   ]
  },
  {
   "cell_type": "code",
   "execution_count": 8,
   "metadata": {},
   "outputs": [],
   "source": [
    "\n",
    "data = 'training_data'\n",
    "\n",
    "out_file = 'training_data_all/'\n",
    "df = pd.read_csv('training_data.csv')\n",
    "for element in id_train:\n",
    "    for filename in os.listdir(data):\n",
    "        if filename.startswith(str(element)) and filename.endswith('.wav'):\n",
    "            link_file = os.path.join(data,filename)\n",
    "            # print(link_file)\n",
    "            time = (time_start(link_file))\n",
    " \n",
    "            # file_txt = (name_file.split('_')[0])+'_'+(name_file.split('_')[1])+'.txt'\n",
    "            # # print(file_txt)\n",
    "            # df = pd.read_csv(file_txt)\n",
    "        # Lấy giá trị của cột \"Murmur\" và \"Outcome\" dựa trên Patient ID\n",
    "            murmur_value = df.loc[df['Patient ID'] == element, 'Murmur'].values[0]\n",
    "            outcome_value = df.loc[df['Patient ID'] == element, 'Outcome'].values[0]\n",
    "            # print(f\"For Patient ID {element}:\")\n",
    "            # print(murmur_value)\n",
    "            # print(outcome_value)\n",
    "            # print(filename)\n",
    "            shutil.copy(link_file, out_file +'train/'+murmur_value+'/'+outcome_value+'_'+str(time)+'_'+filename)\n",
    "\n",
    "    "
   ]
  },
  {
   "cell_type": "code",
   "execution_count": null,
   "metadata": {},
   "outputs": [],
   "source": []
  }
 ],
 "metadata": {
  "kernelspec": {
   "display_name": "venv",
   "language": "python",
   "name": "python3"
  },
  "language_info": {
   "codemirror_mode": {
    "name": "ipython",
    "version": 3
   },
   "file_extension": ".py",
   "mimetype": "text/x-python",
   "name": "python",
   "nbconvert_exporter": "python",
   "pygments_lexer": "ipython3",
   "version": "3.10.12"
  }
 },
 "nbformat": 4,
 "nbformat_minor": 2
}
