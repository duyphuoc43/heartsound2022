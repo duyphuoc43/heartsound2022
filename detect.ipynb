{
 "cells": [
  {
   "cell_type": "markdown",
   "metadata": {},
   "source": [
    "**Khai báo thư viện cần sử dụng**"
   ]
  },
  {
   "cell_type": "code",
   "execution_count": 1,
   "metadata": {
    "_cell_guid": "b1076dfc-b9ad-4769-8c92-a6c4dae69d19",
    "_uuid": "8f2839f25d086af736a60e9eeb907d3b93b6e0e5",
    "execution": {
     "iopub.execute_input": "2023-11-26T05:35:08.763703Z",
     "iopub.status.busy": "2023-11-26T05:35:08.763306Z",
     "iopub.status.idle": "2023-11-26T05:35:09.801610Z",
     "shell.execute_reply": "2023-11-26T05:35:09.800789Z",
     "shell.execute_reply.started": "2023-11-26T05:35:08.763670Z"
    },
    "trusted": true
   },
   "outputs": [],
   "source": [
    "import pandas as pd\n",
    "import numpy as np\n",
    "import librosa\n",
    "import librosa.display\n",
    "import matplotlib.pyplot as plt\n",
    "import os\n",
    "import shutil\n",
    "from sklearn.model_selection import train_test_split,StratifiedShuffleSplit\n",
    "from sklearn.preprocessing import LabelBinarizer\n",
    "import pickle\n",
    "import cv2"
   ]
  },
  {
   "cell_type": "markdown",
   "metadata": {},
   "source": [
    "**Fucntion để lấy data từ file âm thanh và nhãn**"
   ]
  },
  {
   "cell_type": "code",
   "execution_count": null,
   "metadata": {
    "execution": {
     "iopub.execute_input": "2023-11-26T05:35:13.345940Z",
     "iopub.status.busy": "2023-11-26T05:35:13.345312Z",
     "iopub.status.idle": "2023-11-26T05:35:13.356555Z",
     "shell.execute_reply": "2023-11-26T05:35:13.355449Z",
     "shell.execute_reply.started": "2023-11-26T05:35:13.345905Z"
    },
    "trusted": true
   },
   "outputs": [],
   "source": [
    "\n",
    "def get_data(name_files,audio,time_limit,sr):\n",
    "\n",
    "    segment_length = time_limit * sr\n",
    "    num_segments = (len(audio) // segment_length)\n",
    "    x = []\n",
    "    y = []\n",
    "    for i in range(num_segments):\n",
    "        start_sample = i * segment_length\n",
    "        end_sample = (i + 1) * segment_length\n",
    "        \n",
    "        segment = audio[start_sample:end_sample]\n",
    "\n",
    "        create_data(segment,n_fft,n_mels,hop_length)\n",
    "        \n",
    "        label = name_files.split('/')[2]\n",
    "        \n",
    "        x.append(create_data(segment,n_fft,n_mels,hop_length))\n",
    "\n",
    "        y.append(label)\n",
    "    # print(len(x))\n",
    "    return x,y\n",
    "def create_data (audio,n_fft,n_mels,hop_length):\n",
    "    mel_spectrogram = librosa.feature.melspectrogram(y=audio,n_fft= n_fft ,n_mels=n_mels,hop_length=hop_length)\n",
    "    mel_spectrogram_db = librosa.power_to_db(mel_spectrogram ,ref=np.max)\n",
    "    mel_spectrogram_db = mel_spectrogram_db + np.abs(np.min(mel_spectrogram_db))\n",
    "    mel_spectrogram_db= cv2.resize(mel_spectrogram_db,output_size[:2])\n",
    "    mel_spectrogram_db= np.reshape(mel_spectrogram_db,output_size)\n",
    "    return mel_spectrogram_db"
   ]
  },
  {
   "cell_type": "markdown",
   "metadata": {},
   "source": [
    " **Tham số để để cho quá trình biển đổi , trích xuất âm thanh thô sang mel-spectrogram**"
   ]
  },
  {
   "cell_type": "code",
   "execution_count": 18,
   "metadata": {
    "execution": {
     "iopub.execute_input": "2023-11-26T05:35:14.378910Z",
     "iopub.status.busy": "2023-11-26T05:35:14.378519Z",
     "iopub.status.idle": "2023-11-26T05:35:14.383890Z",
     "shell.execute_reply": "2023-11-26T05:35:14.382894Z",
     "shell.execute_reply.started": "2023-11-26T05:35:14.378879Z"
    },
    "trusted": true
   },
   "outputs": [],
   "source": [
    "duration = 2\n",
    "time_limit = duration\n",
    "sr = 4000\n",
    "n_fft = 512\n",
    "n_mels= 128\n",
    "hop_length = 256\n",
    "output_size = (64,64,1)"
   ]
  },
  {
   "cell_type": "markdown",
   "metadata": {},
   "source": [
    "**Lấy data từ file wav có nhãn là Absent**"
   ]
  },
  {
   "cell_type": "code",
   "execution_count": null,
   "metadata": {
    "execution": {
     "iopub.execute_input": "2023-11-26T05:35:46.180309Z",
     "iopub.status.busy": "2023-11-26T05:35:46.179795Z",
     "iopub.status.idle": "2023-11-26T05:39:33.620523Z",
     "shell.execute_reply": "2023-11-26T05:39:33.619562Z",
     "shell.execute_reply.started": "2023-11-26T05:35:46.180280Z"
    },
    "trusted": true
   },
   "outputs": [
    {
     "name": "stdout",
     "output_type": "stream",
     "text": [
      "(11, 64, 64, 1)\n",
      "(11,)\n"
     ]
    }
   ],
   "source": [
    "\n",
    "x = []\n",
    "y  = []\n",
    "x_test = []\n",
    "x_test =[]\n",
    "dem = 0\n",
    "\n",
    "name_files = \"C:/Users/duyph/Desktop/heartsound2022/training_data/2530_AV.wav\"\n",
    "\n",
    "audio, sr = librosa.load(name_files, sr=sr,offset = 0)\n",
    "\n",
    "x,y = get_data(name_files, audio, time_limit = time_limit, sr = sr)\n",
    "\n",
    "x_test.extend(x)\n",
    "x_test.extend(y)\n",
    "print(np.array(x_test).shape)\n",
    "print(np.array(x_test).shape)"
   ]
  },
  {
   "cell_type": "code",
   "execution_count": null,
   "metadata": {},
   "outputs": [],
   "source": [
    "x_test = np.concatenate([x_test, x_test, x_test], axis=-1)"
   ]
  },
  {
   "cell_type": "code",
   "execution_count": null,
   "metadata": {},
   "outputs": [
    {
     "name": "stdout",
     "output_type": "stream",
     "text": [
      "(11, 64, 64, 3)\n"
     ]
    }
   ],
   "source": [
    "print(np.array(x_test).shape)\n"
   ]
  },
  {
   "cell_type": "code",
   "execution_count": null,
   "metadata": {
    "execution": {
     "iopub.execute_input": "2023-11-26T06:20:19.103916Z",
     "iopub.status.busy": "2023-11-26T06:20:19.103033Z",
     "iopub.status.idle": "2023-11-26T06:20:27.195916Z",
     "shell.execute_reply": "2023-11-26T06:20:27.194934Z",
     "shell.execute_reply.started": "2023-11-26T06:20:19.103878Z"
    },
    "trusted": true
   },
   "outputs": [
    {
     "name": "stdout",
     "output_type": "stream",
     "text": [
      "90/90 [==============================] - 2s 11ms/step\n",
      "90/90 [==============================] - 2s 13ms/step - loss: 0.2671 - accuracy: 0.8678\n",
      "Loss: 0.26707154512405396\n",
      "Accuracy: 0.8678261041641235\n"
     ]
    },
    {
     "data": {
      "image/png": "[encoded data removed]",
      "text/plain": [
       "<Figure size 600x400 with 2 Axes>"
      ]
     },
     "metadata": {},
     "output_type": "display_data"
    }
   ],
   "source": [
    "from tensorflow.keras.models import load_model\n",
    "import numpy as np\n",
    "\n",
    "\n",
    "model = load_model('/kaggle/working/best_model_ResNet50.h5') \n",
    "\n",
    "\n",
    "\n",
    "predictions = model.predict(x_test)\n",
    "\n",
    "\n",
    "print(predictions)"
   ]
  },
  {
   "cell_type": "code",
   "execution_count": 35,
   "metadata": {
    "execution": {
     "iopub.execute_input": "2023-11-26T07:05:21.841370Z",
     "iopub.status.busy": "2023-11-26T07:05:21.840411Z",
     "iopub.status.idle": "2023-11-26T07:05:24.158982Z",
     "shell.execute_reply": "2023-11-26T07:05:24.158053Z",
     "shell.execute_reply.started": "2023-11-26T07:05:21.841331Z"
    },
    "trusted": true
   },
   "outputs": [
    {
     "name": "stdout",
     "output_type": "stream",
     "text": [
      "Model: \"sequential_4\"\n",
      "_________________________________________________________________\n",
      " Layer (type)                Output Shape              Param #   \n",
      "=================================================================\n",
      " resnet50 (Functional)       (None, 2, 2, 2048)        23587712  \n",
      "                                                                 \n",
      " flatten_4 (Flatten)         (None, 8192)              0         \n",
      "                                                                 \n",
      " dense_4 (Dense)             (None, 3)                 24579     \n",
      "                                                                 \n",
      "=================================================================\n",
      "Total params: 23612291 (90.07 MB)\n",
      "Trainable params: 23559171 (89.87 MB)\n",
      "Non-trainable params: 53120 (207.50 KB)\n",
      "_________________________________________________________________\n"
     ]
    }
   ],
   "source": [
    "import tensorflow as tf\n",
    "from tensorflow.keras.models import Sequential\n",
    "from tensorflow.keras.layers import Conv2D, MaxPooling2D, BatchNormalization, LSTM, Dense, Dropout, Flatten\n",
    "from tensorflow.keras.callbacks import ModelCheckpoint, TensorBoard\n",
    "from keras.applications import ResNet50\n",
    "from keras.optimizers import Adam,Nadam,SGD\n",
    "\n",
    "base_model = ResNet50(weights='imagenet', include_top=False, input_shape=input_shape)\n",
    "\n",
    "model = Sequential()\n",
    "model.add(base_model)\n",
    "model.add(Flatten())\n",
    "# model.add(Dense(256, activation='relu'))\n",
    "# model.add(Dropout(0.5))\n",
    "model.add(Dense(3, activation='softmax'))\n",
    "\n",
    "\n",
    "model.compile(optimizer=SGD(learning_rate=0.001, momentum=0.99), loss='categorical_hinge', metrics=['accuracy'])\n",
    "# SGD(learning_rate=0.01, momentum=0.9)\n",
    "#categorical_hinge\n",
    "\n",
    "#categorical_crossentropy 8.4 - 0.5\n",
    "model_checkpoint = ModelCheckpoint('/kaggle/working/best_model_ResNet101.h5', monitor='val_accuracy', save_best_only=True, mode='max', verbose=1)\n",
    "checkpoint_path = \"/kaggle/working/model_checkpoint_{epoch:02d}.h5\"\n",
    "\n",
    "# Tạo callback để lưu model sau mỗi 10 epoch\n",
    "# checkpoint_callback = ModelCheckpoint(\n",
    "#     filepath=checkpoint_path,\n",
    "#     monitor='val_accuracy', save_best_only=True, mode='max',\n",
    "#     save_freq='epoch',\n",
    "#     period=10  # Lưu model sau mỗi 10 epoch\n",
    "# )\n",
    "checkpoint_callback = ModelCheckpoint(\n",
    "    filepath=checkpoint_path,\n",
    "    save_freq=10,  # Lưu mô hình sau mỗi 10 epoch\n",
    "    save_best_only=True,  # Chỉ lưu mô hình tốt nhất\n",
    "    monitor='val_accuracy',  # Đánh giá theo dõi để xác định mô hình tốt nhất, có thể là 'val_accuracy' hoặc một đánh giá khác\n",
    "    mode='max',  # Chế độ 'min' nếu đánh giá giảm là tốt nhất, 'max' nếu đánh giá tăng là tốt nhất\n",
    "    save_weights_only=False  # Lưu cả kiến trúc và trọng số của mô hình\n",
    ")\n",
    "\n",
    "model.summary()"
   ]
  },
  {
   "cell_type": "code",
   "execution_count": null,
   "metadata": {
    "execution": {
     "iopub.execute_input": "2023-11-26T07:05:24.160684Z",
     "iopub.status.busy": "2023-11-26T07:05:24.160390Z"
    },
    "trusted": true
   },
   "outputs": [
    {
     "name": "stdout",
     "output_type": "stream",
     "text": [
      "Epoch 1/200\n",
      "65/65 [==============================] - 26s 181ms/step - loss: 0.6186 - accuracy: 0.6837 - val_loss: 0.8885 - val_accuracy: 0.5486\n",
      "Epoch 2/200\n",
      "65/65 [==============================] - 10s 149ms/step - loss: 0.3465 - accuracy: 0.8267 - val_loss: 1.2486 - val_accuracy: 0.3459\n",
      "Epoch 3/200\n",
      "65/65 [==============================] - 10s 149ms/step - loss: 0.3243 - accuracy: 0.8381 - val_loss: 0.8955 - val_accuracy: 0.5498\n",
      "Epoch 4/200\n",
      "65/65 [==============================] - 10s 149ms/step - loss: 0.3342 - accuracy: 0.8325 - val_loss: 0.9912 - val_accuracy: 0.5030\n",
      "Epoch 5/200\n",
      "65/65 [==============================] - 10s 149ms/step - loss: 0.3349 - accuracy: 0.8324 - val_loss: 1.0522 - val_accuracy: 0.4724\n",
      "Epoch 6/200\n",
      "65/65 [==============================] - 10s 149ms/step - loss: 0.3213 - accuracy: 0.8391 - val_loss: 0.5239 - val_accuracy: 0.7372\n",
      "Epoch 7/200\n",
      "65/65 [==============================] - 10s 149ms/step - loss: 0.3136 - accuracy: 0.8431 - val_loss: 0.3393 - val_accuracy: 0.8304\n",
      "Epoch 8/200\n",
      "65/65 [==============================] - 10s 149ms/step - loss: 0.3309 - accuracy: 0.8344 - val_loss: 0.4233 - val_accuracy: 0.7882\n",
      "Epoch 9/200\n",
      "65/65 [==============================] - 10s 149ms/step - loss: 0.3183 - accuracy: 0.8404 - val_loss: 0.3320 - val_accuracy: 0.8339\n",
      "Epoch 10/200\n",
      "65/65 [==============================] - 10s 149ms/step - loss: 0.2959 - accuracy: 0.8520 - val_loss: 0.3354 - val_accuracy: 0.8321\n",
      "Epoch 11/200\n",
      "65/65 [==============================] - 10s 149ms/step - loss: 0.2904 - accuracy: 0.8551 - val_loss: 0.8019 - val_accuracy: 0.5990\n",
      "Epoch 12/200\n",
      "65/65 [==============================] - 10s 149ms/step - loss: 0.2916 - accuracy: 0.8540 - val_loss: 0.4346 - val_accuracy: 0.7829\n",
      "Epoch 13/200\n",
      "65/65 [==============================] - 10s 149ms/step - loss: 0.2831 - accuracy: 0.8580 - val_loss: 0.3712 - val_accuracy: 0.8138\n",
      "Epoch 14/200\n",
      "65/65 [==============================] - 10s 152ms/step - loss: 0.2831 - accuracy: 0.8583 - val_loss: 0.3197 - val_accuracy: 0.8403\n",
      "Epoch 15/200\n",
      "65/65 [==============================] - 10s 149ms/step - loss: 0.2827 - accuracy: 0.8585 - val_loss: 0.3812 - val_accuracy: 0.8096\n",
      "Epoch 16/200\n",
      "65/65 [==============================] - 10s 149ms/step - loss: 0.2828 - accuracy: 0.8585 - val_loss: 0.4579 - val_accuracy: 0.7703\n",
      "Epoch 17/200\n",
      "65/65 [==============================] - 10s 149ms/step - loss: 0.2723 - accuracy: 0.8638 - val_loss: 0.4670 - val_accuracy: 0.7661\n",
      "Epoch 18/200\n",
      "49/65 [=====================>........] - ETA: 2s - loss: 0.2741 - accuracy: 0.8623"
     ]
    }
   ],
   "source": [
    "history = model.fit(x_train,y_train,batch_size=256,epochs=200,validation_data=(x_val, y_val),shuffle=True, callbacks=checkpoint_callback)\n",
    "show_history()"
   ]
  },
  {
   "cell_type": "code",
   "execution_count": null,
   "metadata": {
    "execution": {
     "iopub.status.busy": "2023-11-26T06:55:12.650910Z",
     "iopub.status.idle": "2023-11-26T06:55:12.651278Z",
     "shell.execute_reply": "2023-11-26T06:55:12.651124Z",
     "shell.execute_reply.started": "2023-11-26T06:55:12.651106Z"
    },
    "trusted": true
   },
   "outputs": [],
   "source": [
    "from tensorflow.keras.models import load_model\n",
    "\n",
    "# Đường dẫn đến các mô hình đã lưu\n",
    "model_paths = [\"model_checkpoint_10.h5\", \"model_checkpoint_20.h5\",\n",
    "                \"model_checkpoint_30.h5\", \"model_checkpoint_40.h5\",\n",
    "                  \"model_checkpoint_50.h5\", \"model_checkpoint_60.h5\",\n",
    "              \"model_checkpoint_70.h5\", \"model_checkpoint_80.h5\",\n",
    "              \"model_checkpoint_90.h5\", \"model_checkpoint_100.h5\",\n",
    "              \"model_checkpoint_110.h5\", \"model_checkpoint_120.h5\",\n",
    "              \"model_checkpoint_130.h5\", \"model_checkpoint_140.h5\",\n",
    "              \"model_checkpoint_150.h5\", \"model_checkpoint_160.h5\",\n",
    "              \"model_checkpoint_170.h5\", \"model_checkpoint_180.h5\",\n",
    "              \"model_checkpoint_190.h5\", \"model_checkpoint_200.h5\"]\n",
    "\n",
    "# Tính trung bình cộng của các trọng số\n",
    "avg_weights = None\n",
    "\n",
    "for model_path in model_paths:\n",
    "    model = load_model(model_path)\n",
    "    if avg_weights is None:\n",
    "        avg_weights = model.get_weights()\n",
    "    else:\n",
    "        # Tính trung bình cộng theo từng trọng số\n",
    "        avg_weights = [avg + weight for avg, weight in zip(avg_weights, model.get_weights())]\n",
    "\n",
    "# Chia cho số lượng mô hình để có trung bình cộng\n",
    "avg_weights = [avg / len(model_paths) for avg in avg_weights]\n",
    "\n",
    "# Tạo mô hình mới với trung bình cộng của các trọng số\n",
    "avg_model = load_model(model_paths[0])  # Tạo mô hình mới có cấu trúc giống với mô hình đầu tiên\n",
    "avg_model.set_weights(avg_weights)\n",
    "avg_model.save(\"average_model.h5\")"
   ]
  },
  {
   "cell_type": "code",
   "execution_count": null,
   "metadata": {},
   "outputs": [],
   "source": []
  }
 ],
 "metadata": {
  "kaggle": {
   "accelerator": "none",
   "dataSources": [
    {
     "datasetId": 4029523,
     "sourceId": 7008919,
     "sourceType": "datasetVersion"
    }
   ],
   "dockerImageVersionId": 30587,
   "isGpuEnabled": false,
   "isInternetEnabled": true,
   "language": "python",
   "sourceType": "notebook"
  },
  "kernelspec": {
   "display_name": "Python 3",
   "language": "python",
   "name": "python3"
  },
  "language_info": {
   "codemirror_mode": {
    "name": "ipython",
    "version": 3
   },
   "file_extension": ".py",
   "mimetype": "text/x-python",
   "name": "python",
   "nbconvert_exporter": "python",
   "pygments_lexer": "ipython3",
   "version": "3.10.11"
  }
 },
 "nbformat": 4,
 "nbformat_minor": 4
}
