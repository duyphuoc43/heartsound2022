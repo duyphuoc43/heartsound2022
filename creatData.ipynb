{
 "cells": [
  {
   "cell_type": "code",
   "execution_count": 13,
   "metadata": {
    "execution": {
     "iopub.execute_input": "2023-11-26T05:35:04.038164Z",
     "iopub.status.busy": "2023-11-26T05:35:04.037855Z",
     "iopub.status.idle": "2023-11-26T05:35:04.993600Z",
     "shell.execute_reply": "2023-11-26T05:35:04.992681Z",
     "shell.execute_reply.started": "2023-11-26T05:35:04.038133Z"
    },
    "trusted": true
   },
   "outputs": [
    {
     "name": "stdout",
     "output_type": "stream",
     "text": [
      " Volume in drive C has no label.\n",
      " Volume Serial Number is 140E-0919\n",
      "\n",
      " Directory of c:\\Users\\lit\\Desktop\\heartsound2022\n",
      "\n",
      "12/17/2024  12:42 AM    <DIR>          .\n",
      "12/17/2024  12:22 AM    <DIR>          ..\n",
      "12/17/2024  01:02 AM            56,183 detect.ipynb\n",
      "12/17/2024  12:18 AM           266,560 heart-sound-v2-85c311.ipynb\n",
      "12/17/2024  12:18 AM           284,902 heart-sound-v2-new.ipynb\n",
      "12/17/2024  12:48 AM           161,216 heart-sound-v3.ipynb\n",
      "12/17/2024  12:42 AM             9,795 id_patient.csv\n",
      "12/17/2024  12:18 AM               870 README.md\n",
      "12/17/2024  12:18 AM                75 requirements.txt\n",
      "12/17/2024  12:18 AM            36,887 slpit_wav_each_folder.ipynb\n",
      "12/17/2024  12:18 AM             4,997 slpit_wav_each_folder.py\n",
      "12/17/2024  12:41 AM    <DIR>          the-circor-digiscope-phonocardiogram-dataset-1.0.3\n",
      "12/17/2024  12:37 AM       471,283,852 the-circor-digiscope-phonocardiogram-dataset-1.0.3.zip\n",
      "12/17/2024  12:18 AM           117,905 training_data.csv\n",
      "12/17/2024  12:42 AM    <DIR>          training_data_all\n",
      "12/17/2024  12:25 AM    <DIR>          venv\n",
      "              11 File(s)    472,223,242 bytes\n",
      "               5 Dir(s)  128,358,723,584 bytes free\n"
     ]
    }
   ],
   "source": [
    "ls"
   ]
  },
  {
   "cell_type": "markdown",
   "metadata": {},
   "source": [
    "**Khai báo thư viện cần sử dụng**"
   ]
  },
  {
   "cell_type": "code",
   "execution_count": 14,
   "metadata": {
    "_cell_guid": "b1076dfc-b9ad-4769-8c92-a6c4dae69d19",
    "_uuid": "8f2839f25d086af736a60e9eeb907d3b93b6e0e5",
    "execution": {
     "iopub.execute_input": "2023-11-26T05:35:08.763703Z",
     "iopub.status.busy": "2023-11-26T05:35:08.763306Z",
     "iopub.status.idle": "2023-11-26T05:35:09.801610Z",
     "shell.execute_reply": "2023-11-26T05:35:09.800789Z",
     "shell.execute_reply.started": "2023-11-26T05:35:08.763670Z"
    },
    "trusted": true
   },
   "outputs": [],
   "source": [
    "import pandas as pd\n",
    "import numpy as np\n",
    "import librosa\n",
    "import librosa.display\n",
    "import matplotlib.pyplot as plt\n",
    "import os\n",
    "import shutil\n",
    "from sklearn.model_selection import train_test_split,StratifiedShuffleSplit\n",
    "from sklearn.preprocessing import LabelBinarizer\n",
    "import pickle\n",
    "import cv2"
   ]
  },
  {
   "cell_type": "markdown",
   "metadata": {},
   "source": [
    "**Tạo các function tạo giá trị nhiễu , kéo giãn âm thanh. Để tăng data**"
   ]
  },
  {
   "cell_type": "code",
   "execution_count": 15,
   "metadata": {
    "execution": {
     "iopub.execute_input": "2023-11-26T05:35:10.772693Z",
     "iopub.status.busy": "2023-11-26T05:35:10.772200Z",
     "iopub.status.idle": "2023-11-26T05:35:10.779603Z",
     "shell.execute_reply": "2023-11-26T05:35:10.778570Z",
     "shell.execute_reply.started": "2023-11-26T05:35:10.772656Z"
    },
    "trusted": true
   },
   "outputs": [],
   "source": [
    "def noise(data,index = 0.05):\n",
    "    noise_amp = index*np.random.uniform()*np.amax(data)\n",
    "    data = data + noise_amp*np.random.normal(size=data.shape[0])\n",
    "    return data\n",
    "\n",
    "# def pitch(data, sampling_rate, pitch_factor=0.8):\n",
    "#     return librosa.effects.pitch_shift(data, sampling_rate, pitch_factor)\n",
    "\n",
    "def higher_speed(data):\n",
    "    return librosa.effects.time_stretch(data, rate=1.2)\n",
    "\n",
    "def lower_speed(data):\n",
    "    return librosa.effects.time_stretch(data, rate=0.8)"
   ]
  },
  {
   "cell_type": "markdown",
   "metadata": {},
   "source": [
    "**Function hiển thị biểu đồ hàm loss và accuracy sau quá trình train**"
   ]
  },
  {
   "cell_type": "markdown",
   "metadata": {},
   "source": [
    "**Fucntion để lấy data từ file âm thanh và nhãn**"
   ]
  },
  {
   "cell_type": "code",
   "execution_count": 16,
   "metadata": {
    "execution": {
     "iopub.execute_input": "2023-11-26T05:35:13.345940Z",
     "iopub.status.busy": "2023-11-26T05:35:13.345312Z",
     "iopub.status.idle": "2023-11-26T05:35:13.356555Z",
     "shell.execute_reply": "2023-11-26T05:35:13.355449Z",
     "shell.execute_reply.started": "2023-11-26T05:35:13.345905Z"
    },
    "trusted": true
   },
   "outputs": [],
   "source": [
    "\n",
    "def get_data(name_files,audio,time_limit,sr):\n",
    "\n",
    "    segment_length = time_limit * sr\n",
    "    num_segments = (len(audio) // segment_length)\n",
    "    x = []\n",
    "    y = []\n",
    "    for i in range(num_segments):\n",
    "        start_sample = i * segment_length\n",
    "        end_sample = (i + 1) * segment_length\n",
    "        \n",
    "        segment = audio[start_sample:end_sample]\n",
    "\n",
    "        create_data(segment,n_fft,n_mels,hop_length)\n",
    "        \n",
    "        label = name_files.split('/')[2]\n",
    "        \n",
    "        x.append(create_data(segment,n_fft,n_mels,hop_length))\n",
    "\n",
    "        y.append(label)\n",
    "    # print(len(x))\n",
    "    return x,y\n",
    "def create_data (audio,n_fft,n_mels,hop_length):\n",
    "    mel_spectrogram = librosa.feature.melspectrogram(y=audio,n_fft= n_fft ,n_mels=n_mels,hop_length=hop_length)\n",
    "    mel_spectrogram_db = librosa.power_to_db(mel_spectrogram ,ref=np.max)\n",
    "    mel_spectrogram_db = mel_spectrogram_db + np.abs(np.min(mel_spectrogram_db))\n",
    "    mel_spectrogram_db= cv2.resize(mel_spectrogram_db,output_size[:2])\n",
    "    mel_spectrogram_db= np.reshape(mel_spectrogram_db,output_size)\n",
    "    return mel_spectrogram_db"
   ]
  },
  {
   "cell_type": "markdown",
   "metadata": {},
   "source": [
    " **Tham số để để cho quá trình biển đổi , trích xuất âm thanh thô sang mel-spectrogram**"
   ]
  },
  {
   "cell_type": "code",
   "execution_count": 17,
   "metadata": {
    "execution": {
     "iopub.execute_input": "2023-11-26T05:35:14.378910Z",
     "iopub.status.busy": "2023-11-26T05:35:14.378519Z",
     "iopub.status.idle": "2023-11-26T05:35:14.383890Z",
     "shell.execute_reply": "2023-11-26T05:35:14.382894Z",
     "shell.execute_reply.started": "2023-11-26T05:35:14.378879Z"
    },
    "trusted": true
   },
   "outputs": [],
   "source": [
    "duration = 2\n",
    "time_limit = duration\n",
    "sr = 4000\n",
    "n_fft = 512\n",
    "n_mels= 128\n",
    "hop_length = 256\n",
    "output_size = (75,75,1)"
   ]
  },
  {
   "cell_type": "markdown",
   "metadata": {},
   "source": [
    "**Lấy data từ file wav có nhãn là Absent**"
   ]
  },
  {
   "cell_type": "code",
   "execution_count": 18,
   "metadata": {
    "execution": {
     "iopub.execute_input": "2023-11-26T05:35:46.180309Z",
     "iopub.status.busy": "2023-11-26T05:35:46.179795Z",
     "iopub.status.idle": "2023-11-26T05:39:33.620523Z",
     "shell.execute_reply": "2023-11-26T05:39:33.619562Z",
     "shell.execute_reply.started": "2023-11-26T05:35:46.180280Z"
    },
    "trusted": true
   },
   "outputs": [
    {
     "name": "stdout",
     "output_type": "stream",
     "text": [
      "(2830, 75, 75, 1)\n",
      "(2830,)\n"
     ]
    }
   ],
   "source": [
    "\n",
    "x = []\n",
    "y  = []\n",
    "x_absent_test = []\n",
    "y_absent_test =[]\n",
    "dem = 0\n",
    "name_folders = \"training_data_all/test/Absent\"\n",
    "for file in os.listdir(name_folders):\n",
    "    name_files = os.path.join(name_folders,file)\n",
    "\n",
    "    time_start = float((file.split('_')[1]))\n",
    "\n",
    "    time_end = (float((file.split('_')[2]))-float((file.split('_')[1])))\n",
    "    audio, sr = librosa.load(name_files, sr=sr,offset = time_start,duration = time_end)\n",
    "\n",
    "    x,y = get_data(name_files,audio,time_limit = time_limit,sr = sr)\n",
    "\n",
    "    x_absent_test.extend(x)\n",
    "    y_absent_test.extend(y)\n",
    "print(np.array(x_absent_test).shape)\n",
    "print(np.array(y_absent_test).shape)"
   ]
  },
  {
   "cell_type": "code",
   "execution_count": 19,
   "metadata": {},
   "outputs": [
    {
     "name": "stdout",
     "output_type": "stream",
     "text": [
      "(1388, 75, 75, 1)\n",
      "(1388,)\n"
     ]
    }
   ],
   "source": [
    "x = []\n",
    "y  = []\n",
    "x_present_test = []\n",
    "y_present_test =[]\n",
    "dem = 0\n",
    "name_folders = \"training_data_all/test/Present\"\n",
    "for i in range(2):\n",
    "    for file in os.listdir(name_folders):\n",
    "        name_files = os.path.join(name_folders,file)\n",
    "\n",
    "        time_start = float((file.split('_')[1]))\n",
    "\n",
    "        time_end = (float((file.split('_')[2]))-float((file.split('_')[1])))\n",
    "        audio, sr = librosa.load(name_files, sr=sr,offset = time_start,duration = time_end)\n",
    "        \n",
    "        if(i==0):\n",
    "            x,y=get_data(name_files,audio,time_limit = time_limit,sr = sr)\n",
    "        elif(i==1):\n",
    "            x,y=get_data(name_files,noise(audio),time_limit = time_limit,sr = sr)\n",
    "        x_present_test.extend(x)\n",
    "        y_present_test.extend(y)\n",
    "print(np.array(x_present_test).shape)\n",
    "print(np.array(y_present_test).shape)"
   ]
  },
  {
   "cell_type": "markdown",
   "metadata": {},
   "source": [
    "**Lấy data từ file wav có nhãn là Present**"
   ]
  },
  {
   "cell_type": "code",
   "execution_count": 20,
   "metadata": {
    "execution": {
     "iopub.execute_input": "2023-11-26T05:39:33.623323Z",
     "iopub.status.busy": "2023-11-26T05:39:33.622377Z",
     "iopub.status.idle": "2023-11-26T05:41:27.748292Z",
     "shell.execute_reply": "2023-11-26T05:41:27.747042Z",
     "shell.execute_reply.started": "2023-11-26T05:39:33.623284Z"
    },
    "trusted": true
   },
   "outputs": [
    {
     "name": "stdout",
     "output_type": "stream",
     "text": [
      "(1921, 75, 75, 1)\n",
      "(1921,)\n"
     ]
    }
   ],
   "source": [
    "x = []\n",
    "y  = []\n",
    "x_unknown_test = []\n",
    "y_unknown_test =[]\n",
    "dem = 0\n",
    "name_folders = \"training_data_all/test/Unknown\"\n",
    "for i in range(5):\n",
    "    for file in os.listdir(name_folders):\n",
    "        name_files = os.path.join(name_folders,file)\n",
    "\n",
    "        time_start = float((file.split('_')[1]))\n",
    "\n",
    "        time_end = (float((file.split('_')[2]))-float((file.split('_')[1])))\n",
    "        audio, sr = librosa.load(name_files, sr=sr)\n",
    "        \n",
    "        if(i==0):\n",
    "            x,y=get_data(name_files,audio,time_limit = time_limit,sr = sr)\n",
    "        elif(i==1):\n",
    "            x,y=get_data(name_files,noise(audio),time_limit = time_limit,sr = sr)\n",
    "        elif(i==2):\n",
    "            x,y=get_data(name_files,lower_speed(audio),time_limit = time_limit,sr = sr)\n",
    "        elif(i==3):\n",
    "            x,y=get_data(name_files,higher_speed(audio),time_limit = time_limit,sr = sr)\n",
    "        elif(i==4):\n",
    "            index = 0.1\n",
    "            x,y=get_data(name_files,noise(audio),time_limit = time_limit,sr = sr)\n",
    "        x_unknown_test.extend(x)\n",
    "        y_unknown_test.extend(y)\n",
    "print(np.array(x_unknown_test).shape)\n",
    "print(np.array(y_unknown_test).shape)"
   ]
  },
  {
   "cell_type": "code",
   "execution_count": 21,
   "metadata": {},
   "outputs": [
    {
     "name": "stdout",
     "output_type": "stream",
     "text": [
      "(5094, 75, 75, 1)\n",
      "(5094,)\n"
     ]
    }
   ],
   "source": [
    "\n",
    "x = []\n",
    "y  = []\n",
    "x_absent_train = []\n",
    "y_absent_train =[]\n",
    "dem = 0\n",
    "name_folders = \"training_data_all/train/Absent\"\n",
    "for file in os.listdir(name_folders):\n",
    "    name_files = os.path.join(name_folders,file)\n",
    "\n",
    "    time_start = float((file.split('_')[1]))\n",
    "\n",
    "    time_end = (float((file.split('_')[2]))-float((file.split('_')[1])))\n",
    "    audio, sr = librosa.load(name_files, sr=sr,offset = time_start,duration = time_end)\n",
    "\n",
    "    x,y = get_data(name_files,audio,time_limit = time_limit,sr = sr)\n",
    "\n",
    "    x_absent_train.extend(x)\n",
    "    y_absent_train.extend(y)\n",
    "print(np.array(x_absent_train).shape)\n",
    "print(np.array(y_absent_train).shape)"
   ]
  },
  {
   "cell_type": "code",
   "execution_count": 22,
   "metadata": {},
   "outputs": [
    {
     "name": "stdout",
     "output_type": "stream",
     "text": [
      "(2878, 75, 75, 1)\n",
      "(2878,)\n"
     ]
    }
   ],
   "source": [
    "x = []\n",
    "y  = []\n",
    "x_present_train = []\n",
    "y_present_train =[]\n",
    "dem = 0\n",
    "name_folders = \"training_data_all/train/Present\"\n",
    "for i in range(2):\n",
    "    for file in os.listdir(name_folders):\n",
    "        name_files = os.path.join(name_folders,file)\n",
    "\n",
    "        time_start = float((file.split('_')[1]))\n",
    "\n",
    "        time_end = (float((file.split('_')[2]))-float((file.split('_')[1])))\n",
    "        audio, sr = librosa.load(name_files, sr=sr,offset = time_start,duration = time_end)\n",
    "        \n",
    "        if(i==0):\n",
    "            x,y=get_data(name_files,audio,time_limit = time_limit,sr = sr)\n",
    "        elif(i==1):\n",
    "            x,y=get_data(name_files,noise(audio),time_limit = time_limit,sr = sr)\n",
    "        x_present_train.extend(x)\n",
    "        y_present_train.extend(y)\n",
    "print(np.array(x_present_train).shape)\n",
    "print(np.array(y_present_train).shape)"
   ]
  },
  {
   "cell_type": "code",
   "execution_count": 23,
   "metadata": {},
   "outputs": [
    {
     "name": "stdout",
     "output_type": "stream",
     "text": [
      "(3020, 75, 75, 1)\n",
      "(3020,)\n"
     ]
    }
   ],
   "source": [
    "x = []\n",
    "y  = []\n",
    "x_unknown_train = []\n",
    "y_unknown_train =[]\n",
    "dem = 0\n",
    "name_folders = \"training_data_all/train/Unknown\"\n",
    "for i in range(5):\n",
    "    for file in os.listdir(name_folders):\n",
    "        name_files = os.path.join(name_folders,file)\n",
    "\n",
    "        time_start = float((file.split('_')[1]))\n",
    "\n",
    "        time_end = (float((file.split('_')[2]))-float((file.split('_')[1])))\n",
    "        audio, sr = librosa.load(name_files, sr=sr)\n",
    "        \n",
    "        if(i==0):\n",
    "            x,y=get_data(name_files,audio,time_limit = time_limit,sr = sr)\n",
    "        elif(i==1):\n",
    "            x,y=get_data(name_files,noise(audio),time_limit = time_limit,sr = sr)\n",
    "        elif(i==2):\n",
    "            x,y=get_data(name_files,lower_speed(audio),time_limit = time_limit,sr = sr)\n",
    "        elif(i==3):\n",
    "            x,y=get_data(name_files,higher_speed(audio),time_limit = time_limit,sr = sr)\n",
    "        elif(i==4):\n",
    "            index = 0.1\n",
    "            x,y=get_data(name_files,noise(audio),time_limit = time_limit,sr = sr)\n",
    "        x_unknown_train.extend(x)\n",
    "        y_unknown_train.extend(y)\n",
    "print(np.array(x_unknown_train).shape)\n",
    "print(np.array(y_unknown_train).shape)"
   ]
  },
  {
   "cell_type": "code",
   "execution_count": 24,
   "metadata": {},
   "outputs": [
    {
     "name": "stdout",
     "output_type": "stream",
     "text": [
      "(1018, 75, 75, 1)\n",
      "(1018,)\n",
      "(575, 75, 75, 1)\n",
      "(575,)\n",
      "(604, 75, 75, 1)\n",
      "(604,)\n"
     ]
    }
   ],
   "source": [
    "x_array = x_absent_train\n",
    "y_array = y_absent_train\n",
    "x_absent_train_split = np.array_split(x_array, 5)\n",
    "y_absent_train_split = np.array_split(y_array, 5)\n",
    "print(x_absent_train_split[4].shape)\n",
    "print(y_absent_train_split[4].shape)\n",
    "\n",
    "x_array = x_present_train\n",
    "y_array = y_present_train\n",
    "x_present_train_split = np.array_split(x_array, 5)\n",
    "y_present_train_split = np.array_split(y_array, 5)\n",
    "print(x_present_train_split[4].shape)\n",
    "print(y_present_train_split[4].shape)\n",
    "\n",
    "x_array = x_unknown_train\n",
    "y_array = y_unknown_train\n",
    "x_unknown_train_split = np.array_split(x_array, 5)\n",
    "y_unknown_train_split = np.array_split(y_array, 5)\n",
    "print(x_unknown_train_split[4].shape)\n",
    "print(y_unknown_train_split[4].shape)"
   ]
  },
  {
   "cell_type": "code",
   "execution_count": 25,
   "metadata": {},
   "outputs": [],
   "source": [
    "x_train =               (x_absent_train_split,\n",
    "                        x_present_train_split,\n",
    "                        x_unknown_train_split)\n",
    "y_train =(  y_absent_train_split,\n",
    "            y_present_train_split,\n",
    "            y_unknown_train_split)\n",
    "x_test = np.concatenate((x_absent_test,\n",
    "                         x_present_test,\n",
    "                         x_unknown_test),axis=0)\n",
    "y_test = np.concatenate((y_absent_test,\n",
    "                         y_present_test,\n",
    "                         y_unknown_test),axis= 0)\n",
    "\n",
    "file = open('data_spectrogram.csv','wb')\n",
    "pickle.dump((x_train,x_test,y_train,y_test),file)\n",
    "file.close()"
   ]
  }
 ],
 "metadata": {
  "kaggle": {
   "accelerator": "none",
   "dataSources": [
    {
     "datasetId": 4029523,
     "sourceId": 7008919,
     "sourceType": "datasetVersion"
    }
   ],
   "dockerImageVersionId": 30587,
   "isGpuEnabled": false,
   "isInternetEnabled": true,
   "language": "python",
   "sourceType": "notebook"
  },
  "kernelspec": {
   "display_name": "venv",
   "language": "python",
   "name": "python3"
  },
  "language_info": {
   "codemirror_mode": {
    "name": "ipython",
    "version": 3
   },
   "file_extension": ".py",
   "mimetype": "text/x-python",
   "name": "python",
   "nbconvert_exporter": "python",
   "pygments_lexer": "ipython3",
   "version": "3.11.9"
  }
 },
 "nbformat": 4,
 "nbformat_minor": 4
}
